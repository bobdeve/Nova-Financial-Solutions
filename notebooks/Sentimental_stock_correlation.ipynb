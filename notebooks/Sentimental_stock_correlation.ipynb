{
 "cells": [
  {
   "cell_type": "code",
   "execution_count": 2,
   "metadata": {},
   "outputs": [
    {
     "name": "stderr",
     "output_type": "stream",
     "text": [
      "C:\\Users\\Bob\\AppData\\Local\\Temp\\ipykernel_11712\\3314417061.py:32: FutureWarning: The default fill_method='pad' in Series.pct_change is deprecated and will be removed in a future version. Either fill in any non-leading NA values prior to calling pct_change or specify 'fill_method=None' to not fill NA values.\n",
      "  daily_prices['Daily_Return'] = daily_prices['Close'].pct_change()\n"
     ]
    },
    {
     "name": "stdout",
     "output_type": "stream",
     "text": [
      "📊 Tesla Sentiment vs Stock Return Correlation\n",
      "➡️ Pearson Correlation: 0.0038\n",
      "➡️ P-Value: 0.8592\n",
      "--------------------------------------------------------\n"
     ]
    },
    {
     "name": "stderr",
     "output_type": "stream",
     "text": [
      "C:\\Users\\Bob\\AppData\\Local\\Temp\\ipykernel_11712\\3314417061.py:32: FutureWarning: The default fill_method='pad' in Series.pct_change is deprecated and will be removed in a future version. Either fill in any non-leading NA values prior to calling pct_change or specify 'fill_method=None' to not fill NA values.\n",
      "  daily_prices['Daily_Return'] = daily_prices['Close'].pct_change()\n"
     ]
    },
    {
     "name": "stdout",
     "output_type": "stream",
     "text": [
      "📊 Apple Sentiment vs Stock Return Correlation\n",
      "➡️ Pearson Correlation: -0.0070\n",
      "➡️ P-Value: 0.7402\n",
      "--------------------------------------------------------\n"
     ]
    },
    {
     "name": "stderr",
     "output_type": "stream",
     "text": [
      "C:\\Users\\Bob\\AppData\\Local\\Temp\\ipykernel_11712\\3314417061.py:32: FutureWarning: The default fill_method='pad' in Series.pct_change is deprecated and will be removed in a future version. Either fill in any non-leading NA values prior to calling pct_change or specify 'fill_method=None' to not fill NA values.\n",
      "  daily_prices['Daily_Return'] = daily_prices['Close'].pct_change()\n"
     ]
    },
    {
     "name": "stdout",
     "output_type": "stream",
     "text": [
      "📊 Microsoft Sentiment vs Stock Return Correlation\n",
      "➡️ Pearson Correlation: -0.0108\n",
      "➡️ P-Value: 0.6126\n",
      "--------------------------------------------------------\n"
     ]
    },
    {
     "name": "stderr",
     "output_type": "stream",
     "text": [
      "C:\\Users\\Bob\\AppData\\Local\\Temp\\ipykernel_11712\\3314417061.py:32: FutureWarning: The default fill_method='pad' in Series.pct_change is deprecated and will be removed in a future version. Either fill in any non-leading NA values prior to calling pct_change or specify 'fill_method=None' to not fill NA values.\n",
      "  daily_prices['Daily_Return'] = daily_prices['Close'].pct_change()\n"
     ]
    },
    {
     "name": "stdout",
     "output_type": "stream",
     "text": [
      "📊 Google Sentiment vs Stock Return Correlation\n",
      "➡️ Pearson Correlation: 0.0082\n",
      "➡️ P-Value: 0.6988\n",
      "--------------------------------------------------------\n"
     ]
    },
    {
     "name": "stderr",
     "output_type": "stream",
     "text": [
      "C:\\Users\\Bob\\AppData\\Local\\Temp\\ipykernel_11712\\3314417061.py:32: FutureWarning: The default fill_method='pad' in Series.pct_change is deprecated and will be removed in a future version. Either fill in any non-leading NA values prior to calling pct_change or specify 'fill_method=None' to not fill NA values.\n",
      "  daily_prices['Daily_Return'] = daily_prices['Close'].pct_change()\n"
     ]
    },
    {
     "name": "stdout",
     "output_type": "stream",
     "text": [
      "📊 NVIDIA Sentiment vs Stock Return Correlation\n",
      "➡️ Pearson Correlation: 0.0038\n",
      "➡️ P-Value: 0.8592\n",
      "--------------------------------------------------------\n"
     ]
    },
    {
     "name": "stderr",
     "output_type": "stream",
     "text": [
      "C:\\Users\\Bob\\AppData\\Local\\Temp\\ipykernel_11712\\3314417061.py:32: FutureWarning: The default fill_method='pad' in Series.pct_change is deprecated and will be removed in a future version. Either fill in any non-leading NA values prior to calling pct_change or specify 'fill_method=None' to not fill NA values.\n",
      "  daily_prices['Daily_Return'] = daily_prices['Close'].pct_change()\n"
     ]
    },
    {
     "name": "stdout",
     "output_type": "stream",
     "text": [
      "📊 Amazon Sentiment vs Stock Return Correlation\n",
      "➡️ Pearson Correlation: -0.0249\n",
      "➡️ P-Value: 0.2399\n",
      "--------------------------------------------------------\n",
      "📊 META Sentiment vs Stock Return Correlation\n",
      "➡️ Pearson Correlation: -0.0132\n",
      "➡️ P-Value: 0.5721\n",
      "--------------------------------------------------------\n"
     ]
    },
    {
     "name": "stderr",
     "output_type": "stream",
     "text": [
      "C:\\Users\\Bob\\AppData\\Local\\Temp\\ipykernel_11712\\3314417061.py:32: FutureWarning: The default fill_method='pad' in Series.pct_change is deprecated and will be removed in a future version. Either fill in any non-leading NA values prior to calling pct_change or specify 'fill_method=None' to not fill NA values.\n",
      "  daily_prices['Daily_Return'] = daily_prices['Close'].pct_change()\n"
     ]
    }
   ],
   "source": [
    "import pandas as pd\n",
    "from scipy.stats import pearsonr\n",
    "\n",
    "# List of companies and their corresponding CSV file paths\n",
    "companies = [\n",
    "    {\"path\": \"../datas/TSLA_merged_data_labeled.csv\", \"name\": \"Tesla\"},\n",
    "    {\"path\": \"../datas/AAPL_merged_data_labeled.csv\", \"name\": \"Apple\"},\n",
    "    {\"path\": \"../datas/MSFT_merged_data_labeled.csv\", \"name\": \"Microsoft\"},\n",
    "    {\"path\": \"../datas/GOOG_merged_data_labeled.csv\", \"name\": \"Google\"},\n",
    "    {\"path\": \"../datas/NVDA_merged_data_labeled.csv\", \"name\": \"NVIDIA\"},\n",
    "    {\"path\": \"../datas/AMZN_merged_data_labeled.csv\", \"name\": \"Amazon\"},\n",
    "    {\"path\": \"../datas/META_merged_data_labeled.csv\", \"name\": \"META\"},\n",
    "]\n",
    "\n",
    "def analyze_sentiment_stock_correlation(file_path, company_name):\n",
    "    \"\"\"\n",
    "    Load labeled stock-news data, compute average daily sentiment,\n",
    "    calculate daily stock returns, and compute correlation between the two.\n",
    "    \"\"\"\n",
    "    df = pd.read_csv(file_path)\n",
    "\n",
    "    # Convert 'Date' column to datetime format and sort\n",
    "    df['Date'] = pd.to_datetime(df['Date'])\n",
    "    df.sort_values('Date', inplace=True)\n",
    "\n",
    "    # 🟩 1. Aggregate Sentiments: Compute average sentiment per day\n",
    "    daily_sentiment = df.groupby('Date')['Sentiment'].mean().reset_index()\n",
    "    daily_sentiment.rename(columns={'Sentiment': 'Avg_Daily_Sentiment'}, inplace=True)\n",
    "\n",
    "    # 🟩 2. Calculate Daily Returns: Percent change in closing price\n",
    "    daily_prices = df[['Date', 'Close']].drop_duplicates().sort_values('Date')\n",
    "    daily_prices['Daily_Return'] = daily_prices['Close'].pct_change()\n",
    "\n",
    "    # 🟩 3. Merge average sentiment and daily return on Date\n",
    "    merged = pd.merge(daily_sentiment, daily_prices, on='Date', how='inner')\n",
    "    merged.dropna(inplace=True)  # Remove rows with missing values\n",
    "\n",
    "    # 🟩 4. Correlation Analysis: Pearson correlation\n",
    "    correlation, p_value = pearsonr(merged['Avg_Daily_Sentiment'], merged['Daily_Return'])\n",
    "\n",
    "    # Print summary\n",
    "    print(f\"📊 {company_name} Sentiment vs Stock Return Correlation\")\n",
    "    print(f\"➡️ Pearson Correlation: {correlation:.4f}\")\n",
    "    print(f\"➡️ P-Value: {p_value:.4f}\")\n",
    "    print(\"--------------------------------------------------------\")\n",
    "\n",
    "    return {\n",
    "        \"company\": company_name,\n",
    "        \"correlation\": correlation,\n",
    "        \"p_value\": p_value\n",
    "    }\n",
    "\n",
    "# Run analysis for each company\n",
    "results = []\n",
    "for company in companies:\n",
    "    result = analyze_sentiment_stock_correlation(company['path'], company['name'])\n",
    "    results.append(result)\n"
   ]
  }
 ],
 "metadata": {
  "kernelspec": {
   "display_name": "venv",
   "language": "python",
   "name": "python3"
  },
  "language_info": {
   "codemirror_mode": {
    "name": "ipython",
    "version": 3
   },
   "file_extension": ".py",
   "mimetype": "text/x-python",
   "name": "python",
   "nbconvert_exporter": "python",
   "pygments_lexer": "ipython3",
   "version": "3.13.3"
  }
 },
 "nbformat": 4,
 "nbformat_minor": 2
}
